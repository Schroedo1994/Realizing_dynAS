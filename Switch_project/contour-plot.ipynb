{
 "cells": [
  {
   "cell_type": "code",
   "execution_count": null,
   "metadata": {},
   "outputs": [],
   "source": [
    "from IOHexperimenter import IOH_function\n",
    "import numpy as np\n",
    "import matplotlib.pyplot as plt"
   ]
  },
  {
   "cell_type": "code",
   "execution_count": null,
   "metadata": {},
   "outputs": [],
   "source": [
    "f = IOH_function(3, 2, 1, suite = 'BBOB')"
   ]
  },
  {
   "cell_type": "code",
   "execution_count": null,
   "metadata": {},
   "outputs": [],
   "source": [
    "from cmaes import CMAES"
   ]
  },
  {
   "cell_type": "code",
   "execution_count": null,
   "metadata": {},
   "outputs": [],
   "source": [
    "alg = CMAES(f)"
   ]
  },
  {
   "cell_type": "code",
   "execution_count": null,
   "metadata": {},
   "outputs": [],
   "source": [
    "alg.budget = 20000\n",
    "tau = 1e-12\n",
    "func = alg.func\n",
    "budget = alg.budget\n",
    "def stopping_criteria():\n",
    "    return (func.best_so_far_precision) <= tau or (\n",
    "                    alg.func.evaluations > budget)\n",
    "\n",
    "alg.set_stopping_criteria(stopping_criteria)"
   ]
  },
  {
   "cell_type": "code",
   "execution_count": null,
   "metadata": {},
   "outputs": [],
   "source": [
    "x_opt, f_opt = alg.run()\n",
    "f.best_so_far_precision"
   ]
  },
  {
   "cell_type": "code",
   "execution_count": null,
   "metadata": {},
   "outputs": [],
   "source": [
    "# Grid points -0.05519959 -0.37079915\n",
    "x_lb = -0.25\n",
    "x_ub = 1\n",
    "y_lb = 2\n",
    "y_ub = 2.75\n",
    "sample_size = 1000\n",
    "x_step = (x_ub - x_lb) / sample_size\n",
    "y_step = (y_ub - y_lb) / sample_size\n",
    "x_coords = np.arange(x_lb, x_ub, x_step)\n",
    "y_coords = np.arange(y_lb, y_ub, y_step)"
   ]
  },
  {
   "cell_type": "code",
   "execution_count": null,
   "metadata": {},
   "outputs": [],
   "source": [
    "X, Y = np.meshgrid(x_coords[0:sample_size], y_coords[0:sample_size])"
   ]
  },
  {
   "cell_type": "code",
   "execution_count": null,
   "metadata": {},
   "outputs": [],
   "source": [
    "Z = np.zeros((sample_size, sample_size))\n",
    "for i in range(0, sample_size):\n",
    "    for j in range(0, sample_size):\n",
    "        Z[i][j] = f((X[i][j], Y[i][j])) - f.get_target()"
   ]
  },
  {
   "cell_type": "code",
   "execution_count": null,
   "metadata": {},
   "outputs": [],
   "source": [
    "Zlog = np.zeros((sample_size, sample_size))\n",
    "for i in range(0, sample_size):\n",
    "    for j in range(0, sample_size):\n",
    "        Zlog[i][j] = np.log10(f((X[i][j], Y[i][j])) - f.get_target())"
   ]
  },
  {
   "cell_type": "code",
   "execution_count": null,
   "metadata": {},
   "outputs": [],
   "source": [
    "fig, ax = plt.subplots(figsize=(12, 10))\n",
    "levels = np.arange(0, 10, 0.08)\n",
    "cs = ax.contour(X, Y, Zlog, cmap = 'viridis', levels=levels)\n",
    "ax.plot(first_sample[0], first_sample[1], 'ro', marker=\"^\", color=\"blue\", markersize=10)\n",
    "ax.plot(0.7, 2.3, 'ro', marker=\"*\", color=\"orange\", markersize=12)\n",
    "ax.plot(red_sample[0][0:2], red_sample[1][0:2], 'ro-', color=\"black\", linestyle=\"dashed\", markersize=5)\n",
    "ax.plot(red_sample[0][2:5], red_sample[1][2:5], 'ro-', color=\"black\", linestyle=\"dashed\", markersize=5)\n",
    "ax.plot(red_sample[0], red_sample[1], 'ro', marker=\"^\", color=\"red\", markersize=10)\n",
    "ax.plot(ls_sample[0], ls_sample[1], 'ro', marker=\"o\", color=\"green\", alpha=0.8, markersize=10)\n",
    "#cs = ax.contourf(X, Y, Zlog, cmap = 'viridis')\n",
    "#fig.colorbar(cs) # Add a colorbar to a plot\n",
    "ax.set_xlim(left=x_lb, right=x_ub)\n",
    "ax.set_ylim(bottom=y_lb, top=y_ub)\n",
    "#ax.plot(x_opt[0], x_opt[1], 'ro', label = 'solution(CMA-ES)', color='blue')\n",
    "ax.clabel(cs, inline=1, fontsize=10)\n",
    "#plt.savefig('MLSL-multimod-step3')"
   ]
  }
 ],
 "metadata": {
  "kernelspec": {
   "display_name": "Python 3",
   "language": "python",
   "name": "python3"
  },
  "language_info": {
   "codemirror_mode": {
    "name": "ipython",
    "version": 3
   },
   "file_extension": ".py",
   "mimetype": "text/x-python",
   "name": "python",
   "nbconvert_exporter": "python",
   "pygments_lexer": "ipython3",
   "version": "3.8.5"
  }
 },
 "nbformat": 4,
 "nbformat_minor": 4
}
