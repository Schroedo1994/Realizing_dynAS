{
 "cells": [
  {
   "cell_type": "code",
   "execution_count": 1,
   "metadata": {},
   "outputs": [],
   "source": [
    "# Imports\n",
    "from IOHexperimenter import IOH_function, IOH_logger, IOHexperimenter\n",
    "import input_reader\n",
    "import parameters\n",
    "import datetime\n",
    "from functools import partial"
   ]
  },
  {
   "cell_type": "code",
   "execution_count": 2,
   "metadata": {},
   "outputs": [],
   "source": [
    "# Create a dictionary that contains algorithms and splitpoints / targets\n",
    "data = input_reader.create_dict()"
   ]
  },
  {
   "cell_type": "code",
   "execution_count": 3,
   "metadata": {},
   "outputs": [],
   "source": [
    "class Switch:\n",
    "    \"\"\" Class to implement the switch between algorithms.\n",
    "\n",
    "    Parameters:\n",
    "    ---------------\n",
    "    func : object, callable\n",
    "        The function to be optimized.\n",
    "\n",
    "    budget : int\n",
    "        The budget that is available for function evaluations.\n",
    "\n",
    "    data : dict\n",
    "        A dictionary with tau as key, algorithm as value\n",
    "\n",
    "\n",
    "    Attibutes:\n",
    "    ---------------\n",
    "    None\n",
    "\n",
    "    \"\"\"\n",
    "\n",
    "    def __init__(self, budget_factor = 1e4):\n",
    "        self.budget_factor = budget_factor\n",
    "\n",
    "    def __call__(self, func, switch_dict, budget = None):\n",
    "        \"\"\" Runs the switch routine. \n",
    "        \n",
    "        Returns:\n",
    "        -----------\n",
    "        x_opt : array-type\n",
    "            The best found solution.\n",
    "\n",
    "        f_opt: float\n",
    "            The fitness value for the best found solution.\n",
    "        \"\"\"\n",
    "        assert isinstance(func, IOH_function), \"The provided function should be of the IOH_function type\"\n",
    "        assert isinstance(switch_dict, dict), \"The provided switching dict needs to be a dictionary\"\n",
    "        #There (later) should be a check here to get whether the tau's are in decreasing order (and either raise an error or fix it)\n",
    "        \n",
    "        if budget is None:\n",
    "            budget = func.number_of_variables * self.budget_factor\n",
    "        \n",
    "        # Initialize parameters\n",
    "        params = parameters.init_params(budget)\n",
    "\n",
    "        # Iterate through dictionary\n",
    "        for tau, alg in switch_dict.items():\n",
    "            # Would be good to check here isinstance(alg, algorithm)\n",
    "            algorithm = alg(func)\n",
    "            # Set algorithm parameters based on parameters object\n",
    "            algorithm.set_params(params)\n",
    "\n",
    "            # Define stopping criteria\n",
    "            def stopping_criteria():\n",
    "                return (func.best_so_far_precision) <= tau or (\n",
    "                    func.evaluations > budget)\n",
    "\n",
    "            algorithm.set_stopping_criteria(stopping_criteria)\n",
    "\n",
    "            # Run algorithm and extract parameters\n",
    "            algorithm.run()\n",
    "            params = algorithm.get_params()\n",
    "\n",
    "        # Return best point and fitness value found by last run algorithm\n",
    "        return algorithm.x_opt, algorithm.f_opt"
   ]
  },
  {
   "cell_type": "code",
   "execution_count": 12,
   "metadata": {},
   "outputs": [],
   "source": [
    "# Experiment routine\n",
    "path = \"\"\n",
    "now = datetime.datetime.now()\n",
    "experiment_ID = str(now.day) + \"-\" + str(now.month) + \"-\" + str(\n",
    "    now.strftime('%H')) + str(now.strftime('%M')) + str(now.strftime('%S'))\n",
    "experiment_name = path + \"switch-routine/experiment\" + experiment_ID\n",
    "dimensions = [3]\n",
    "instances = [1, 2, 3, 4, 5]\n",
    "func_ids = [20]\n",
    "exp_budget = 10000\n",
    "runs = 5\n",
    "\n",
    "switch_routine = Switch()\n",
    "\n",
    "# for func_id in func_ids:\n",
    "#     for dim in dimensions:\n",
    "#         for inst in instances:\n",
    "#             f = IOH_function(func_id, dim, inst, suite='BBOB')\n",
    "#             log = IOH_logger(experiment_name, \"run\",\n",
    "#                              \"switch-routine\", \"switch-routine\")\n",
    "#             f.add_logger(log)\n",
    "#             for run in range(0, runs):\n",
    "#                 if run > 0:\n",
    "#                     f.reset()\n",
    "#                 switch(f, data, exp_budget)\n",
    "#                 print(f' run {run} dim{dim} f{func_id} inst{inst} complete')\n",
    "#             f.clear_logger()\n",
    "            \n"
   ]
  },
  {
   "cell_type": "code",
   "execution_count": null,
   "metadata": {},
   "outputs": [
    {
     "name": "stdout",
     "output_type": "stream",
     "text": [
      "Running pebble pool with 5 threads\n",
      "202020   15951567157720    0.52501689476319480.0172168684114478760.487844540213164371550\n",
      "\n"
     ]
    }
   ],
   "source": [
    "exp = IOHexperimenter()\n",
    "exp.initialize_BBOB(func_ids, instances, dimensions, runs, 0)\n",
    "exp.set_logger_location(experiment_name)\n",
    "# exp.set_parallel(True, \"pebble\") Optional for running parallel, several libraries are available, but might still be unstable for some?\n",
    "switch_routine = partial(switch_routine, switch_dict = data, budget = exp_budget)\n",
    "exp([switch_routine])"
   ]
  }
 ],
 "metadata": {
  "kernelspec": {
   "display_name": "Python 3",
   "language": "python",
   "name": "python3"
  },
  "language_info": {
   "codemirror_mode": {
    "name": "ipython",
    "version": 3
   },
   "file_extension": ".py",
   "mimetype": "text/x-python",
   "name": "python",
   "nbconvert_exporter": "python",
   "pygments_lexer": "ipython3",
   "version": "3.6.9"
  }
 },
 "nbformat": 4,
 "nbformat_minor": 4
}
