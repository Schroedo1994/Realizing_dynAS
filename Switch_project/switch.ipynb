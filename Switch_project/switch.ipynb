{
 "cells": [
  {
   "cell_type": "code",
   "execution_count": 4,
   "metadata": {},
   "outputs": [],
   "source": [
    "%load_ext pycodestyle_magic"
   ]
  },
  {
   "cell_type": "code",
   "execution_count": 5,
   "metadata": {},
   "outputs": [],
   "source": [
    "%flake8_on"
   ]
  },
  {
   "cell_type": "code",
   "execution_count": 6,
   "metadata": {},
   "outputs": [],
   "source": [
    "from IOHexperimenter import IOH_function, IOH_logger\n",
    "import datetime\n",
    "from ea import EA\n",
    "from bfgs import BFGS\n",
    "from mlsl import MLSL\n",
    "import handover"
   ]
  },
  {
   "cell_type": "code",
   "execution_count": 9,
   "metadata": {},
   "outputs": [],
   "source": [
    "def switch(func, budget, alg1, alg2, tau, target):\n",
    "    \"\"\" Switch function to switch between two pre-defined algorithms.\n",
    "\n",
    "    Parameters:\n",
    "    -------------\n",
    "    func : object\n",
    "        The function that will be optimized.\n",
    "\n",
    "    budget : int\n",
    "        Budget for function evaluations, total.\n",
    "\n",
    "    a1 : string\n",
    "        The algorithm that should run first.\n",
    "        Options: 'MLSL', 'BFGS', 'CMAES', 'EA', 'PSO'.\n",
    "\n",
    "    a2 : string\n",
    "        The algorithm that should run second.\n",
    "        Options: 'MLSL', 'BFGS', 'CMAES', 'EA', 'PSO'.\n",
    "\n",
    "    tau : float\n",
    "        The function value at which algorithms should switch from A1 to A2.\n",
    "\n",
    "    target : float\n",
    "        The fixed-target value until which A2 should optimize\n",
    "\n",
    "    \"\"\"\n",
    "    # Initialize A1\n",
    "    if alg1 == 'MLSL':\n",
    "        a1 = MLSL((budget/2), 'a1')\n",
    "    elif alg1 == 'BFGS':\n",
    "        a1 = BFGS((budget/2), 'a1')\n",
    "    elif alg1 == 'EA':\n",
    "        a1 = EA(((budget/2), 'a1'))\n",
    "    else:\n",
    "        print(f'The algorithm {alg1} is unknown.')\n",
    "\n",
    "    if alg2 == 'MLSL':\n",
    "        a2 = MLSL((budget/2), 'a2')\n",
    "    elif alg2 == 'BFGS':\n",
    "        a2 = BFGS((budget/2), 'a2')\n",
    "    elif alg2 == 'EA':\n",
    "        a2 = EA(((budget/2), 'a2'))\n",
    "    else:\n",
    "        print(f'The algorithm {alg2} is unknown.')\n",
    "\n",
    "    # Run A1\n",
    "    a1(func, tau, target)\n",
    "    print(f' switch_precision so far: {func.best_so_far_precision}')\n",
    "\n",
    "    # Handover of information\n",
    "    handover.mlsl_bfgs(a1, a2)\n",
    "\n",
    "    # Run A2\n",
    "    a2(func, tau, target)\n",
    "    print(f' switch_precision so far: {func.best_so_far_precision}')"
   ]
  },
  {
   "cell_type": "code",
   "execution_count": null,
   "metadata": {},
   "outputs": [],
   "source": [
    "path = \"/Users/dschroeder/Documents/Master Computer Science/Master_Thesis/code_and_data/experiments/\"\n",
    "now = datetime.datetime.now()\n",
    "experiment_ID = str(now.day) + \"-\" + str(now.month) + \"-\" + str(now.strftime('%H')) + str(now.strftime('%M')) + str(now.strftime('%S'))\n",
    "experiment_name =  path + \"simple_switch/experiment\" + experiment_ID\n",
    "\n",
    "instances = [1, 2, 3, 4, 5]\n",
    "\n",
    "for instance in instances:\n",
    "    f12 = IOH_function(12, 20, instance, suite = 'BBOB')\n",
    "    l = IOH_logger(experiment_name, \"run\", \"simple_switch_tau_30\", \"switch-mlsl-bfgs\")\n",
    "    f12.add_logger(l)\n",
    "    for run in range(0, 5):\n",
    "        print(f' run {run} instance {instance}')\n",
    "        if run > 0:\n",
    "            f12.reset()\n",
    "        switch(f12, 10000, 'MLSL', 'BFGS', 30, 1e-8)\n",
    "    f12.clear_logger()"
   ]
  }
 ],
 "metadata": {
  "kernelspec": {
   "display_name": "Python 3",
   "language": "python",
   "name": "python3"
  },
  "language_info": {
   "codemirror_mode": {
    "name": "ipython",
    "version": 3
   },
   "file_extension": ".py",
   "mimetype": "text/x-python",
   "name": "python",
   "nbconvert_exporter": "python",
   "pygments_lexer": "ipython3",
   "version": "3.8.5"
  }
 },
 "nbformat": 4,
 "nbformat_minor": 4
}
