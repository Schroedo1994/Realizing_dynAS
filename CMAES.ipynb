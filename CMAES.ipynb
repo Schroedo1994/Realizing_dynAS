{
 "cells": [
  {
   "cell_type": "code",
   "execution_count": 1,
   "metadata": {},
   "outputs": [],
   "source": [
    "from ccmaes.configurablecmaes import ConfigurableCMAES\n",
    "from ccmaes import utils\n",
    "import datetime"
   ]
  },
  {
   "cell_type": "code",
   "execution_count": 2,
   "metadata": {},
   "outputs": [
    {
     "name": "stderr",
     "output_type": "stream",
     "text": [
      " 20%|██        | 1/5 [00:00<00:00,  8.89it/s]"
     ]
    },
    {
     "name": "stdout",
     "output_type": "stream",
     "text": [
      "CCMAES_experiment_2309-1635\n",
      "Optimizing function 1 in 2D for target 79.48 + 1e-08 with 5 iterations.\n"
     ]
    },
    {
     "name": "stderr",
     "output_type": "stream",
     "text": [
      "100%|██████████| 5/5 [00:00<00:00, 11.73it/s]\n",
      "  0%|          | 0/5 [00:00<?, ?it/s]"
     ]
    },
    {
     "name": "stdout",
     "output_type": "stream",
     "text": [
      "FCE:\t79.48000000\t    0.0000\n",
      "ERT:\t  235.2000\t   28.7500\n",
      "5/5 runs reached target\n",
      "Time elapsed 0.4568760395050049\n",
      "CCMAES_experiment_2309-1635\n",
      "Optimizing function 2 in 2D for target -209.88 + 1e-08 with 5 iterations.\n"
     ]
    },
    {
     "name": "stderr",
     "output_type": "stream",
     "text": [
      "100%|██████████| 5/5 [00:01<00:00,  4.63it/s]\n",
      "  0%|          | 0/5 [00:00<?, ?it/s]"
     ]
    },
    {
     "name": "stdout",
     "output_type": "stream",
     "text": [
      "FCE:\t-209.87999999\t    0.0000\n",
      "ERT:\t  638.4000\t   85.4110\n",
      "5/5 runs reached target\n",
      "Time elapsed 1.0857810974121094\n",
      "CCMAES_experiment_2309-1635\n",
      "Optimizing function 3 in 2D for target -462.09 + 2.51188643150958 with 5 iterations.\n"
     ]
    },
    {
     "name": "stderr",
     "output_type": "stream",
     "text": [
      "100%|██████████| 5/5 [00:22<00:00,  4.50s/it]\n",
      "100%|██████████| 5/5 [00:00<00:00, 39.85it/s]\n",
      "  0%|          | 0/5 [00:00<?, ?it/s]"
     ]
    },
    {
     "name": "stdout",
     "output_type": "stream",
     "text": [
      "FCE:\t-457.88348236\t    2.5306\n",
      "ERT:\t42561.0000\t 4401.4744\n",
      "2/5 runs reached target\n",
      "Time elapsed 22.50467824935913\n",
      "CCMAES_experiment_2309-1635\n",
      "Optimizing function 4 in 2D for target -462.09 + 6.309573444801933 with 5 iterations.\n",
      "FCE:\t-458.60267367\t    1.1012\n",
      "ERT:\t   58.8000\t   29.7348\n",
      "5/5 runs reached target\n",
      "Time elapsed 0.1321570873260498\n",
      "CCMAES_experiment_2309-1635\n",
      "Optimizing function 5 in 2D for target -9.21 + 1e-08 with 5 iterations.\n"
     ]
    },
    {
     "name": "stderr",
     "output_type": "stream",
     "text": [
      "100%|██████████| 5/5 [00:00<00:00, 45.27it/s]\n",
      " 20%|██        | 1/5 [00:00<00:00,  6.69it/s]"
     ]
    },
    {
     "name": "stdout",
     "output_type": "stream",
     "text": [
      "FCE:\t-9.21000000\t    0.0000\n",
      "ERT:\t   50.4000\t    6.1188\n",
      "5/5 runs reached target\n",
      "Time elapsed 0.12822294235229492\n",
      "CCMAES_experiment_2309-1635\n",
      "Optimizing function 6 in 2D for target 35.9 + 1e-08 with 5 iterations.\n"
     ]
    },
    {
     "name": "stderr",
     "output_type": "stream",
     "text": [
      "100%|██████████| 5/5 [00:00<00:00,  5.38it/s]\n",
      "100%|██████████| 5/5 [00:00<00:00, 86.92it/s]\n",
      "  0%|          | 0/5 [00:00<?, ?it/s]"
     ]
    },
    {
     "name": "stdout",
     "output_type": "stream",
     "text": [
      "FCE:\t35.90000001\t    0.0000\n",
      "ERT:\t  570.0000\t   88.4262\n",
      "5/5 runs reached target\n",
      "Time elapsed 0.9409558773040771\n",
      "CCMAES_experiment_2309-1635\n",
      "Optimizing function 7 in 2D for target 92.94 + 1.0 with 5 iterations.\n",
      "FCE:\t93.24310540\t    0.2373\n",
      "ERT:\t    6.0000\t    0.0000\n",
      "5/5 runs reached target\n",
      "Time elapsed 0.06212902069091797\n",
      "CCMAES_experiment_2309-1635\n",
      "Optimizing function 8 in 2D for target 149.15 + 1e-08 with 5 iterations.\n"
     ]
    },
    {
     "name": "stderr",
     "output_type": "stream",
     "text": [
      "100%|██████████| 5/5 [00:00<00:00,  5.41it/s]\n",
      " 20%|██        | 1/5 [00:00<00:00,  8.23it/s]"
     ]
    },
    {
     "name": "stdout",
     "output_type": "stream",
     "text": [
      "FCE:\t149.15000000\t    0.0000\n",
      "ERT:\t  448.8000\t   44.1561\n",
      "5/5 runs reached target\n",
      "Time elapsed 0.9308853149414062\n",
      "CCMAES_experiment_2309-1635\n",
      "Optimizing function 9 in 2D for target 123.83 + 1e-08 with 5 iterations.\n"
     ]
    },
    {
     "name": "stderr",
     "output_type": "stream",
     "text": [
      "100%|██████████| 5/5 [00:01<00:00,  4.70it/s]\n",
      "  0%|          | 0/5 [00:00<?, ?it/s]"
     ]
    },
    {
     "name": "stdout",
     "output_type": "stream",
     "text": [
      "FCE:\t123.83000000\t    0.0000\n",
      "ERT:\t  486.0000\t  115.5993\n",
      "5/5 runs reached target\n",
      "Time elapsed 1.0692007541656494\n",
      "CCMAES_experiment_2309-1635\n",
      "Optimizing function 10 in 2D for target -54.94 + 1e-08 with 5 iterations.\n"
     ]
    },
    {
     "name": "stderr",
     "output_type": "stream",
     "text": [
      "100%|██████████| 5/5 [00:01<00:00,  3.44it/s]\n",
      "  0%|          | 0/5 [00:00<?, ?it/s]"
     ]
    },
    {
     "name": "stdout",
     "output_type": "stream",
     "text": [
      "FCE:\t-54.94000000\t    0.0000\n",
      "ERT:\t  718.8000\t   55.9514\n",
      "5/5 runs reached target\n",
      "Time elapsed 1.4615519046783447\n",
      "CCMAES_experiment_2309-1635\n",
      "Optimizing function 11 in 2D for target 76.27 + 1e-08 with 5 iterations.\n"
     ]
    },
    {
     "name": "stderr",
     "output_type": "stream",
     "text": [
      "100%|██████████| 5/5 [00:01<00:00,  3.45it/s]\n",
      "  0%|          | 0/5 [00:00<?, ?it/s]"
     ]
    },
    {
     "name": "stdout",
     "output_type": "stream",
     "text": [
      "FCE:\t76.27000001\t    0.0000\n",
      "ERT:\t  679.2000\t   37.8333\n",
      "5/5 runs reached target\n",
      "Time elapsed 1.454077959060669\n",
      "CCMAES_experiment_2309-1635\n",
      "Optimizing function 12 in 2D for target -621.11 + 1e-08 with 5 iterations.\n"
     ]
    },
    {
     "name": "stderr",
     "output_type": "stream",
     "text": [
      "100%|██████████| 5/5 [00:01<00:00,  4.44it/s]\n",
      "  0%|          | 0/5 [00:00<?, ?it/s]"
     ]
    },
    {
     "name": "stdout",
     "output_type": "stream",
     "text": [
      "FCE:\t-621.11000000\t    0.0000\n",
      "ERT:\t  699.6000\t   80.8198\n",
      "5/5 runs reached target\n",
      "Time elapsed 1.1336913108825684\n",
      "CCMAES_experiment_2309-1635\n",
      "Optimizing function 13 in 2D for target 29.97 + 1e-08 with 5 iterations.\n"
     ]
    },
    {
     "name": "stderr",
     "output_type": "stream",
     "text": [
      "100%|██████████| 5/5 [00:01<00:00,  3.08it/s]\n",
      "  0%|          | 0/5 [00:00<?, ?it/s]"
     ]
    },
    {
     "name": "stdout",
     "output_type": "stream",
     "text": [
      "FCE:\t29.97000001\t    0.0000\n",
      "ERT:\t 1088.4000\t  124.1638\n",
      "5/5 runs reached target\n",
      "Time elapsed 1.6282739639282227\n",
      "CCMAES_experiment_2309-1635\n",
      "Optimizing function 14 in 2D for target -52.35 + 1e-08 with 5 iterations.\n"
     ]
    },
    {
     "name": "stderr",
     "output_type": "stream",
     "text": [
      "100%|██████████| 5/5 [00:01<00:00,  4.90it/s]\n",
      "  0%|          | 0/5 [00:00<?, ?it/s]"
     ]
    },
    {
     "name": "stdout",
     "output_type": "stream",
     "text": [
      "FCE:\t-52.34999999\t    0.0000\n",
      "ERT:\t  758.4000\t   76.4241\n",
      "5/5 runs reached target\n",
      "Time elapsed 1.0254199504852295\n",
      "CCMAES_experiment_2309-1635\n",
      "Optimizing function 15 in 2D for target 1000.0 + 2.51188643150958 with 5 iterations.\n"
     ]
    },
    {
     "name": "stderr",
     "output_type": "stream",
     "text": [
      "100%|██████████| 5/5 [00:18<00:00,  3.76s/it]\n",
      "  0%|          | 0/5 [00:00<?, ?it/s]"
     ]
    },
    {
     "name": "stdout",
     "output_type": "stream",
     "text": [
      "FCE:\t1006.89665444\t    3.8788\n",
      "ERT:\t34089.0000\t 8192.4920\n",
      "2/5 runs reached target\n",
      "Time elapsed 18.789855003356934\n",
      "CCMAES_experiment_2309-1635\n",
      "Optimizing function 16 in 2D for target 71.35 + 0.01 with 5 iterations.\n"
     ]
    },
    {
     "name": "stderr",
     "output_type": "stream",
     "text": [
      "100%|██████████| 5/5 [00:01<00:00,  3.66it/s]\n",
      "  0%|          | 0/5 [00:00<?, ?it/s]"
     ]
    },
    {
     "name": "stdout",
     "output_type": "stream",
     "text": [
      "FCE:\t71.35629779\t    0.0019\n",
      "ERT:\t  608.4000\t  830.3150\n",
      "5/5 runs reached target\n",
      "Time elapsed 1.3744502067565918\n",
      "CCMAES_experiment_2309-1635\n",
      "Optimizing function 17 in 2D for target -16.94 + 3.9810717055349695e-05 with 5 iterations.\n"
     ]
    },
    {
     "name": "stderr",
     "output_type": "stream",
     "text": [
      "/Users/dschroeder/Documents/Master Computer Science/Master_Thesis/code_and_data/CCMAES/ccmaes/parameters.py:595: RuntimeWarning: divide by zero encountered in reciprocal\n",
      "  self.invC = np.dot(self.B, self.D ** -1 * self.B.T)\n",
      "/Users/dschroeder/Documents/Master Computer Science/Master_Thesis/code_and_data/CCMAES/ccmaes/parameters.py:605: RuntimeWarning: invalid value encountered in matmul\n",
      "  self.ps = ((1 - self.cs) * self.ps + (np.sqrt(\n",
      "100%|██████████| 5/5 [00:17<00:00,  3.43s/it]\n",
      "  0%|          | 0/5 [00:00<?, ?it/s]"
     ]
    },
    {
     "name": "stdout",
     "output_type": "stream",
     "text": [
      "FCE:\t-16.93996547\t    0.0000\n",
      "ERT:\t12642.0000\t 6821.7726\n",
      "5/5 runs reached target\n",
      "Time elapsed 17.17485499382019\n",
      "CCMAES_experiment_2309-1635\n",
      "Optimizing function 18 in 2D for target -16.94 + 0.0001 with 5 iterations.\n"
     ]
    },
    {
     "name": "stderr",
     "output_type": "stream",
     "text": [
      "100%|██████████| 5/5 [00:12<00:00,  2.48s/it]\n",
      "100%|██████████| 5/5 [00:00<00:00, 62.08it/s]\n",
      "  0%|          | 0/5 [00:00<?, ?it/s]"
     ]
    },
    {
     "name": "stdout",
     "output_type": "stream",
     "text": [
      "FCE:\t-16.54351236\t    0.7167\n",
      "ERT:\t16568.0000\t 8678.7758\n",
      "3/5 runs reached target\n",
      "Time elapsed 12.397811889648438\n",
      "CCMAES_experiment_2309-1635\n",
      "Optimizing function 19 in 2D for target -102.55 + 0.251188643150958 with 5 iterations.\n",
      "FCE:\t-102.46899530\t    0.0759\n",
      "ERT:\t   40.8000\t   23.8193\n",
      "5/5 runs reached target\n",
      "Time elapsed 0.0859682559967041\n",
      "CCMAES_experiment_2309-1635\n",
      "Optimizing function 20 in 2D for target -546.5 + 1.5848931924611136 with 5 iterations.\n"
     ]
    },
    {
     "name": "stderr",
     "output_type": "stream",
     "text": [
      "100%|██████████| 5/5 [00:06<00:00,  1.35s/it]\n",
      "  0%|          | 0/5 [00:00<?, ?it/s]"
     ]
    },
    {
     "name": "stdout",
     "output_type": "stream",
     "text": [
      "FCE:\t-545.09089223\t    0.1358\n",
      "ERT:\t 7050.0000\t 7781.5499\n",
      "4/5 runs reached target\n",
      "Time elapsed 6.741674900054932\n",
      "CCMAES_experiment_2309-1635\n",
      "Optimizing function 21 in 2D for target 40.78 + 0.251188643150958 with 5 iterations.\n"
     ]
    },
    {
     "name": "stderr",
     "output_type": "stream",
     "text": [
      "100%|██████████| 5/5 [00:26<00:00,  5.30s/it]\n",
      "100%|██████████| 5/5 [00:00<00:00, 66.69it/s]\n",
      "  0%|          | 0/5 [00:00<?, ?it/s]"
     ]
    },
    {
     "name": "stdout",
     "output_type": "stream",
     "text": [
      "FCE:\t42.19506050\t    0.4791\n",
      "ERT:\t       inf\t       nan\n",
      "0/5 runs reached target\n",
      "Time elapsed 26.508159160614014\n",
      "CCMAES_experiment_2309-1635\n",
      "Optimizing function 22 in 2D for target -1000.0 + 1.0 with 5 iterations.\n",
      "FCE:\t-999.75742784\t    0.2536\n",
      "ERT:\t   10.8000\t    6.9971\n",
      "5/5 runs reached target\n",
      "Time elapsed 0.07957601547241211\n",
      "CCMAES_experiment_2309-1635\n",
      "Optimizing function 23 in 2D for target 6.87 + 0.15848931924611134 with 5 iterations.\n"
     ]
    },
    {
     "name": "stderr",
     "output_type": "stream",
     "text": [
      "100%|██████████| 5/5 [00:05<00:00,  1.19s/it]\n",
      "100%|██████████| 5/5 [00:00<00:00, 32.87it/s]"
     ]
    },
    {
     "name": "stdout",
     "output_type": "stream",
     "text": [
      "FCE:\t6.98545290\t    0.0355\n",
      "ERT:\t 3211.2000\t 3526.8537\n",
      "5/5 runs reached target\n",
      "Time elapsed 5.97804594039917\n",
      "CCMAES_experiment_2309-1635\n",
      "Optimizing function 24 in 2D for target 102.61 + 10.0 with 5 iterations.\n",
      "FCE:\t110.32652562\t    1.7382\n",
      "ERT:\t   56.4000\t   20.6456\n",
      "5/5 runs reached target\n",
      "Time elapsed 0.15566277503967285\n"
     ]
    },
    {
     "name": "stderr",
     "output_type": "stream",
     "text": [
      "\n"
     ]
    }
   ],
   "source": [
    "for fid in range (1,25):\n",
    "    utils.evaluate(ConfigurableCMAES, fid, 2, iterations=5, label='CCMAES_experiment_2309-1635', logging=True, data_folder=None, seed=42)"
   ]
  }
 ],
 "metadata": {
  "kernelspec": {
   "display_name": "Python 3",
   "language": "python",
   "name": "python3"
  },
  "language_info": {
   "codemirror_mode": {
    "name": "ipython",
    "version": 3
   },
   "file_extension": ".py",
   "mimetype": "text/x-python",
   "name": "python",
   "nbconvert_exporter": "python",
   "pygments_lexer": "ipython3",
   "version": "3.8.5"
  }
 },
 "nbformat": 4,
 "nbformat_minor": 4
}
