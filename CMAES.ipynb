{
 "cells": [
  {
   "cell_type": "code",
   "execution_count": 25,
   "metadata": {},
   "outputs": [],
   "source": [
    "from ccmaes.configurablecmaes import ConfigurableCMAES\n",
    "from ccmaes import utils\n",
    "from ccmaes import optimizer\n",
    "import datetime\n",
    "from IOHexperimenter import IOH_function\n",
    "from IOHexperimenter import IOH_logger\n",
    "import datetime\n",
    "from zipfile import ZipFile\n",
    "import os\n",
    "from os.path import basename\n",
    "import shutil\n",
    "from shutil import make_archive"
   ]
  },
  {
   "cell_type": "code",
   "execution_count": null,
   "metadata": {},
   "outputs": [],
   "source": [
    "for fid in range (1,25):\n",
    "    utils.evaluate(ConfigurableCMAES, fid, 2, iterations=5, label='CCMAES_experiment_2309-1635', logging=True, data_folder=None, seed=42)"
   ]
  },
  {
   "cell_type": "code",
   "execution_count": 31,
   "metadata": {},
   "outputs": [],
   "source": [
    "path = \"/Users/dschroeder/Documents/Master Computer Science/Master_Thesis/code_and_data/experiments/\"\n",
    "now = datetime.datetime.now()\n",
    "experiment_ID = str(now.day) + \"-\" + str(now.month) + \"-\" + str(now.strftime('%H')) + str(now.strftime('%M')) + str(now.strftime('%S'))\n",
    "experiment_name =  \"CMA-ES/experiment\" + experiment_ID\n",
    "\n",
    "#for run in range (0,3):\n",
    "dimensions = [2,5,10]\n",
    "k=0\n",
    "for dim in dimensions:\n",
    "    for func_id in range (1,25):\n",
    "        f = IOH_function(func_id,dim,1, suite='BBOB')\n",
    "        l = IOH_logger(experiment_name, \"run-\" + str(func_id + k*24), \"CMA_ES\", \"Configurable_CMA-ES\")\n",
    "        f.add_logger(l)\n",
    "        cma_es = ConfigurableCMAES(f, d = f.number_of_variables)\n",
    "        cma_es.parameters.target = f.get_target()\n",
    "        cma_es.run()\n",
    "        f.clear_logger()\n",
    "    k = k+1"
   ]
  },
  {
   "cell_type": "code",
   "execution_count": 19,
   "metadata": {},
   "outputs": [],
   "source": []
  },
  {
   "cell_type": "code",
   "execution_count": 20,
   "metadata": {},
   "outputs": [
    {
     "data": {
      "text/plain": [
       "<ccmaes.configurablecmaes.ConfigurableCMAES at 0x108149c70>"
      ]
     },
     "execution_count": 20,
     "metadata": {},
     "output_type": "execute_result"
    }
   ],
   "source": []
  },
  {
   "cell_type": "code",
   "execution_count": 21,
   "metadata": {},
   "outputs": [
    {
     "data": {
      "text/plain": [
       "43.03580462408013"
      ]
     },
     "execution_count": 21,
     "metadata": {},
     "output_type": "execute_result"
    }
   ],
   "source": [
    "cma_es.parameters.fopt"
   ]
  },
  {
   "cell_type": "code",
   "execution_count": 22,
   "metadata": {},
   "outputs": [
    {
     "data": {
      "text/plain": [
       "100000"
      ]
     },
     "execution_count": 22,
     "metadata": {},
     "output_type": "execute_result"
    }
   ],
   "source": [
    "cma_es.parameters.used_budget"
   ]
  },
  {
   "cell_type": "markdown",
   "metadata": {},
   "source": []
  },
  {
   "cell_type": "code",
   "execution_count": 23,
   "metadata": {},
   "outputs": [
    {
     "data": {
      "text/plain": [
       "40.78"
      ]
     },
     "execution_count": 23,
     "metadata": {},
     "output_type": "execute_result"
    }
   ],
   "source": [
    "cma_es.parameters.target"
   ]
  },
  {
   "cell_type": "code",
   "execution_count": 24,
   "metadata": {},
   "outputs": [],
   "source": []
  },
  {
   "cell_type": "code",
   "execution_count": null,
   "metadata": {},
   "outputs": [],
   "source": []
  }
 ],
 "metadata": {
  "kernelspec": {
   "display_name": "Python 3",
   "language": "python",
   "name": "python3"
  },
  "language_info": {
   "codemirror_mode": {
    "name": "ipython",
    "version": 3
   },
   "file_extension": ".py",
   "mimetype": "text/x-python",
   "name": "python",
   "nbconvert_exporter": "python",
   "pygments_lexer": "ipython3",
   "version": "3.8.5"
  }
 },
 "nbformat": 4,
 "nbformat_minor": 4
}
