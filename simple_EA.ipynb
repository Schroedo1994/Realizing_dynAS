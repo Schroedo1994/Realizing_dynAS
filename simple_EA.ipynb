{
 "cells": [
  {
   "cell_type": "code",
   "execution_count": 9,
   "metadata": {},
   "outputs": [],
   "source": [
    "# Imports\n",
    "import numpy as np\n",
    "import random as rd\n",
    "import math\n",
    "import IOHexperimenter as IOH\n",
    "from IOHexperimenter import IOH_function\n",
    "\n",
    "#setting the random seed\n",
    "rd.seed()"
   ]
  },
  {
   "cell_type": "code",
   "execution_count": 93,
   "metadata": {},
   "outputs": [],
   "source": [
    "class Simple_EA:\n",
    "    \n",
    "    def __init__(self, budget):\n",
    "        self.budget = budget\n",
    "        self.f_opt = np.Inf\n",
    "        self.x_opt = None\n",
    "        self.d = 1\n",
    "                \n",
    "        # Parameter setting\n",
    "        self.mu = 15 #number of parents\n",
    "        self.lamda = 100 #number of offspring\n",
    "        self.pc = 0.8 #recombination probability\n",
    "        self.tau = 1 / math.sqrt(self.d)\n",
    "        self.sigma = 10/6\n",
    "        \n",
    "    def initialize_individual(self):\n",
    "        individual = np.empty((self.d,1))\n",
    "        for i in range (0,self.d):\n",
    "            individual[i]= rd.uniform(-5, 5)\n",
    "        return individual\n",
    "\n",
    "    def initialize_population(self):\n",
    "        population = np.zeros((self.mu,self.d))\n",
    "        for k in range(0,self.mu):\n",
    "            population[k] = np.transpose(self.initialize_individual())\n",
    "        return population\n",
    "\n",
    "    def recombine(self,pop):\n",
    "        offspring = np.zeros((self.d))\n",
    "        p1 = pop[rd.randrange(0,len(pop))]\n",
    "        p2 = pop[rd.randrange(0,len(pop))]\n",
    "        if rd.uniform(0,1) < self.pc:\n",
    "            for k in range (0,self.d):\n",
    "                random_number = rd.uniform(0,1)\n",
    "                if random_number < 0.5:\n",
    "                    offspring[k] = p1[k]\n",
    "                else:\n",
    "                    offspring[k] = p2[k]\n",
    "        else:\n",
    "            offspring = p1\n",
    "        return offspring\n",
    "\n",
    "    def update_sigma(self):\n",
    "        self.sigma = self.sigma * math.exp(self.tau * np.random.normal(0,1))\n",
    "        return self.sigma\n",
    "\n",
    "    def singlestep_mutate (self,ind):\n",
    "        mutant = np.zeros(len(ind))\n",
    "        for j in range (0, len(ind)):\n",
    "             result = ind[j] + self.sigma * np.random.normal(0,1)\n",
    "             # check boundaries first\n",
    "             if result < -5:\n",
    "                mutant[j] = -5\n",
    "             elif result > 5:\n",
    "                mutant[j] = 5\n",
    "             # if result is within boundaries, change j-th mutant characteristic to result\n",
    "             else:\n",
    "                mutant[j] = result\n",
    "\n",
    "        return mutant\n",
    "  \n",
    "    def __call__(self, func):\n",
    "        \n",
    "        evalcount = 0\n",
    "        self.d = func.number_of_variables\n",
    "        eval_budget = self.budget * self.d\n",
    "        \n",
    "        #Initialization\n",
    "        xp = self.initialize_population() #parent population\n",
    "        f = np.zeros((self.mu,1)) #parents fitness\n",
    "        xo = np.zeros((self.lamda,self.d)) #offspring population\n",
    "        fo = np.zeros((self.lamda,1)) #offspring fitness\n",
    "        \n",
    "        for i in range (0,self.mu):\n",
    "            f[i] = func(xp[i])\n",
    "            evalcount = evalcount +1\n",
    "        \n",
    "        # Evaluation loop\n",
    "        while evalcount < eval_budget and func.final_target_hit == False :\n",
    "            self.sigma = self.update_sigma()\n",
    "            \n",
    "            for i in range(0,self.lamda):\n",
    "                offspring = self.recombine(xp)\n",
    "                xo[i] = self.singlestep_mutate(offspring)\n",
    "                fo[i] = func(xo[i])\n",
    "                evalcount = evalcount +1\n",
    "                \n",
    "            # Selection\n",
    "            m = np.concatenate((xo, fo), axis=1) # Create joint matrix of individuals and their fitness values\n",
    "            sorted_m = m[np.argsort(m[:, self.d])] # sort based on fitness (lowest values highest ranking)\n",
    "            xpnew = sorted_m[0:self.mu,0:self.d] # copy best individuals and remove fitness values\n",
    "\n",
    "            xp = xpnew # set new population for next generation\n",
    "            f = sorted_m[0:self.mu,self.d] # copy fitness values of new generation\n",
    "\n",
    "            self.x_opt = xpnew[0]\n",
    "            self.f_opt = f[0]\n",
    "\n",
    "        return self.x_opt, self.f_opt"
   ]
  },
  {
   "cell_type": "code",
   "execution_count": 86,
   "metadata": {},
   "outputs": [],
   "source": [
    "list = []\n",
    "for i in range (1,25):\n",
    "    list.append(i)"
   ]
  },
  {
   "cell_type": "code",
   "execution_count": 87,
   "metadata": {},
   "outputs": [],
   "source": [
    "from IOHexperimenter import IOHexperimenter\n",
    "exp = IOHexperimenter()\n",
    "\n",
    "exp.initialize_BBOB(list,[1],[2,5,20], 1)\n",
    "exp.set_logger_location(\"experiment7\", \"run\")"
   ]
  },
  {
   "cell_type": "code",
   "execution_count": 95,
   "metadata": {},
   "outputs": [
    {
     "name": "stdout",
     "output_type": "stream",
     "text": [
      "Running single-threaded\n",
      "1 1715 8.700259962071172e-09\n",
      "1 50015 2.5431594640002743e-07\n",
      "1 200015 0.3989321136792331\n",
      "2 20015 91786.78661691122\n",
      "2 50015 764781.1738962715\n",
      "2 200015 3851893.006061066\n",
      "3 20015 21.01799443817913\n",
      "3 50015 129.3586312664454\n",
      "3 200015 1169.4275295852792\n",
      "4 20015 21.738943482194472\n",
      "4 50015 89.248399893284\n",
      "4 200015 292.3523434972365\n",
      "5 115 0.0\n",
      "5 115 0.0\n",
      "5 200015 18.32980710832436\n",
      "6 20015 5.802209572317167\n",
      "6 50015 404.91715431297814\n",
      "6 200015 507069.5645872644\n",
      "7 20015 97.83977110247267\n",
      "7 50015 173.7413015546301\n",
      "7 200015 590.1181630405185\n",
      "8 20015 5.635591865225445\n",
      "8 50015 2732.378570750684\n",
      "8 200015 111950.51504091856\n",
      "9 20015 6.377770037556524\n",
      "9 50015 4823.495368060562\n",
      "9 200015 166860.04628894522\n",
      "10 20015 162572.46743129927\n",
      "10 50015 195583.32928193797\n",
      "10 200015 837404.9036072805\n",
      "11 20015 875.2792652326605\n",
      "11 50015 19728.684690072412\n",
      "11 200015 352.07340422530586\n",
      "12 20015 844.6285957940108\n",
      "12 50015 1959878.5061518627\n",
      "12 200015 241844847.4035083\n",
      "13 20015 122.82387488768235\n",
      "13 50015 876.3384158695204\n",
      "13 200015 2066.065600325928\n",
      "14 20015 0.6343188089275849\n",
      "14 50015 16.99076093730825\n",
      "14 200015 39.38555046699239\n",
      "15 20015 26.583519443756902\n",
      "15 50015 145.92065844399485\n",
      "15 200015 919.2993563273717\n",
      "16 20015 20.436603926710518\n",
      "16 50015 11.649486755930127\n",
      "16 200015 19.38887720706298\n",
      "17 20015 1.8562380700632009\n",
      "17 50015 7.9542166942793635\n",
      "17 200015 13.504026881023389\n",
      "18 20015 10.161999630343688\n",
      "18 50015 12.122172888247814\n",
      "18 200015 52.771258727270464\n",
      "19 20015 6.454868369227018\n",
      "19 50015 11.087798736834785\n",
      "19 200015 27.946882135710894\n",
      "20 20015 3.826533629489586\n",
      "20 50015 4995.020230609787\n",
      "20 200015 112122.65859911243\n",
      "21 20015 2.0648956239307426\n",
      "21 50015 17.22764490100637\n",
      "21 200015 77.72132322782343\n",
      "22 20015 2.19127263490219\n",
      "22 50015 59.470086665582784\n",
      "22 200015 76.2559358967313\n",
      "23 20015 8.473102652399842\n",
      "23 50015 6.798422403758977\n",
      "23 200015 2.106840872093368\n",
      "24 20015 13.679015725238235\n",
      "24 50015 37.57864615660218\n",
      "24 200015 621.5911831086369\n"
     ]
    },
    {
     "data": {
      "text/plain": [
       "[None,\n",
       " None,\n",
       " None,\n",
       " None,\n",
       " None,\n",
       " None,\n",
       " None,\n",
       " None,\n",
       " None,\n",
       " None,\n",
       " None,\n",
       " None,\n",
       " None,\n",
       " None,\n",
       " None,\n",
       " None,\n",
       " None,\n",
       " None,\n",
       " None,\n",
       " None,\n",
       " None,\n",
       " None,\n",
       " None,\n",
       " None,\n",
       " None,\n",
       " None,\n",
       " None,\n",
       " None,\n",
       " None,\n",
       " None,\n",
       " None,\n",
       " None,\n",
       " None,\n",
       " None,\n",
       " None,\n",
       " None,\n",
       " None,\n",
       " None,\n",
       " None,\n",
       " None,\n",
       " None,\n",
       " None,\n",
       " None,\n",
       " None,\n",
       " None,\n",
       " None,\n",
       " None,\n",
       " None,\n",
       " None,\n",
       " None,\n",
       " None,\n",
       " None,\n",
       " None,\n",
       " None,\n",
       " None,\n",
       " None,\n",
       " None,\n",
       " None,\n",
       " None,\n",
       " None,\n",
       " None,\n",
       " None,\n",
       " None,\n",
       " None,\n",
       " None,\n",
       " None,\n",
       " None,\n",
       " None,\n",
       " None,\n",
       " None,\n",
       " None,\n",
       " None]"
      ]
     },
     "execution_count": 95,
     "metadata": {},
     "output_type": "execute_result"
    }
   ],
   "source": [
    "exp([Simple_EA(10000)])"
   ]
  },
  {
   "cell_type": "code",
   "execution_count": 45,
   "metadata": {},
   "outputs": [
    {
     "data": {
      "text/plain": [
       "0.3687509655995906"
      ]
     },
     "execution_count": 45,
     "metadata": {},
     "output_type": "execute_result"
    }
   ],
   "source": [
    "np.random.normal(0,1)"
   ]
  },
  {
   "cell_type": "code",
   "execution_count": 20,
   "metadata": {},
   "outputs": [
    {
     "data": {
      "text/plain": [
       "12.026611990799731"
      ]
     },
     "execution_count": 20,
     "metadata": {},
     "output_type": "execute_result"
    }
   ],
   "source": [
    "rd.uniform(0,15)"
   ]
  },
  {
   "cell_type": "code",
   "execution_count": 55,
   "metadata": {},
   "outputs": [],
   "source": [
    "ind = np.array([4.8, -4.9, 2.004])"
   ]
  },
  {
   "cell_type": "code",
   "execution_count": 56,
   "metadata": {},
   "outputs": [
    {
     "data": {
      "text/plain": [
       "3"
      ]
     },
     "execution_count": 56,
     "metadata": {},
     "output_type": "execute_result"
    }
   ],
   "source": [
    "len(ind)"
   ]
  },
  {
   "cell_type": "code",
   "execution_count": 70,
   "metadata": {},
   "outputs": [],
   "source": [
    "mutant = np.zeros(len(ind))\n",
    "for j in range (0, len(ind)):\n",
    "     result = ind[j] + 0.5 * np.random.normal(0,1)\n",
    "     # check boundaries first\n",
    "     if result < -5:\n",
    "        mutant[j] = -5\n",
    "     elif result > 5:\n",
    "        mutant[j] = 5\n",
    "     # if result is within boundaries, change j-th mutant characteristic to result\n",
    "     else:\n",
    "        mutant[j] = result"
   ]
  },
  {
   "cell_type": "code",
   "execution_count": 71,
   "metadata": {},
   "outputs": [
    {
     "data": {
      "text/plain": [
       "array([ 5.        , -4.95380178,  1.36805   ])"
      ]
     },
     "execution_count": 71,
     "metadata": {},
     "output_type": "execute_result"
    }
   ],
   "source": [
    "mutant"
   ]
  },
  {
   "cell_type": "code",
   "execution_count": 84,
   "metadata": {},
   "outputs": [
    {
     "data": {
      "text/plain": [
       "array([[ 4.54828113],\n",
       "       [ 0.15893617],\n",
       "       [ 0.2418503 ],\n",
       "       [-2.96042667],\n",
       "       [-1.59883677]])"
      ]
     },
     "execution_count": 84,
     "metadata": {},
     "output_type": "execute_result"
    }
   ],
   "source": [
    "lowerbound = -5\n",
    "upperbound = 5\n",
    "individual = np.empty((5,1))\n",
    "for i in range (0,5):\n",
    "    individual[i]= rd.uniform(lowerbound, upperbound)\n",
    "individual"
   ]
  },
  {
   "cell_type": "code",
   "execution_count": null,
   "metadata": {},
   "outputs": [],
   "source": []
  }
 ],
 "metadata": {
  "kernelspec": {
   "display_name": "Python 3",
   "language": "python",
   "name": "python3"
  },
  "language_info": {
   "codemirror_mode": {
    "name": "ipython",
    "version": 3
   },
   "file_extension": ".py",
   "mimetype": "text/x-python",
   "name": "python",
   "nbconvert_exporter": "python",
   "pygments_lexer": "ipython3",
   "version": "3.8.5"
  }
 },
 "nbformat": 4,
 "nbformat_minor": 4
}
