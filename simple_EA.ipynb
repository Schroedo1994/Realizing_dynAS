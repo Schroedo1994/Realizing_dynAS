{
 "cells": [
  {
   "cell_type": "code",
   "execution_count": 6,
   "metadata": {},
   "outputs": [],
   "source": [
    "# Imports\n",
    "import numpy as np\n",
    "import random as rd\n",
    "import math\n",
    "import IOHexperimenter as IOH\n",
    "from IOHexperimenter import IOH_function\n",
    "\n",
    "#setting the random seed\n",
    "rd.seed()"
   ]
  },
  {
   "cell_type": "code",
   "execution_count": 13,
   "metadata": {},
   "outputs": [],
   "source": [
    "class Simple_EA_15_100_multiple_runs:\n",
    "    \n",
    "    def __init__(self, budget, pc):\n",
    "        \n",
    "        self.budget = budget\n",
    "        self.d = 1\n",
    "                \n",
    "        # Parameter setting\n",
    "        self.mu = 15 #number of parents\n",
    "        self.lamda = 100 #number of offspring\n",
    "        self.pc = pc #recombination probability\n",
    "        self.sigma = 10/6\n",
    "        \n",
    "    def initialize_individual(self):\n",
    "        individual = np.empty((self.d,1))\n",
    "        for i in range (0,self.d):\n",
    "            individual[i]= rd.uniform(-5, 5)\n",
    "        return individual\n",
    "\n",
    "    def initialize_population(self):\n",
    "        population = np.zeros((self.mu,self.d))\n",
    "        for k in range(0,self.mu):\n",
    "            population[k] = np.transpose(self.initialize_individual())\n",
    "        return population\n",
    "\n",
    "    def recombine(self,pop):\n",
    "        offspring = np.zeros((self.d))\n",
    "        p1 = pop[rd.randrange(0,len(pop))]\n",
    "        p2 = pop[rd.randrange(0,len(pop))]\n",
    "        if rd.uniform(0,1) < self.pc:\n",
    "            for k in range (0,self.d):\n",
    "                random_number = rd.uniform(0,1)\n",
    "                if random_number < 0.5:\n",
    "                    offspring[k] = p1[k]\n",
    "                else:\n",
    "                    offspring[k] = p2[k]\n",
    "        else:\n",
    "            offspring = p1\n",
    "        return offspring\n",
    "    \n",
    "    \"\"\"def global_discrete_recombine(self, pop):\n",
    "        offspring = np.zeros((self.d))\n",
    "        for i in range(0, self.d):\n",
    "            random_parent = pop[rd.randrange(0,len(pop))]\n",
    "            offspring[i] = random_parent[i]\n",
    "            \n",
    "        return offspring \"\"\"\n",
    "\n",
    "    def update_sigma(self, sigma, tau):\n",
    "        new_sigma = sigma * math.exp(tau * np.random.normal(0,1))\n",
    "        return new_sigma\n",
    "\n",
    "    def singlestep_mutate (self,ind, sigma):\n",
    "        result = 0\n",
    "        mutant = np.zeros(len(ind))\n",
    "        for j in range (0, len(ind)):\n",
    "            result = ind[j] + sigma * np.random.normal(0,1)\n",
    "             # check boundaries first\n",
    "            if result < -5:\n",
    "                mutant[j] = -5\n",
    "            elif result > 5:\n",
    "                mutant[j] = 5\n",
    "             # if result is within boundaries, change j-th mutant characteristic to result\n",
    "            else:\n",
    "                mutant[j] = result\n",
    "\n",
    "        return mutant\n",
    "    \"\"\" def update_sigma_vec(self, sigma_vec, global_tau, local_tau):\n",
    "        updated_sigma = np.zeros(self.d)\n",
    "        for i in range (0,len(sigma_vec)):\n",
    "            updated_sigma[i] = sigma_vec[i] * math.exp(global_tau * np.random.normal(0,1) + local_tau * np.random.normal(0,1))\n",
    "\n",
    "        return updated_sigma\n",
    "\n",
    "    def indstep_mutate(self, ind, sigma_vec):\n",
    "        result = 0\n",
    "        mutant = np.zeros(len(ind))\n",
    "        for j in range (0,len(ind)):\n",
    "            result = ind[j] + sigma_vec[j] * np.random.normal(0,1)\n",
    "            if result < -5:\n",
    "                mutant[j] = -5\n",
    "            elif result > 5:\n",
    "                mutant[j] = 5\n",
    "                 # if result is within boundaries, change j-th mutant characteristic to result\n",
    "            else:\n",
    "                mutant[j] = result\n",
    " \n",
    "        return mutant\n",
    "    \"\"\"\n",
    "    def __call__(self, func):\n",
    "        \n",
    "        evalcount = 0\n",
    "        self.d = func.number_of_variables\n",
    "        eval_budget = self.budget * self.d\n",
    "        sigma = self.sigma\n",
    "        tau = 1 / math.sqrt(self.d)\n",
    "        #global_tau = 1 / math.sqrt(2*self.d); #for individual stepsize mutation\n",
    "        #local_tau = 1 / math.sqrt(2*mathsqrt(self.d)); #for individual stepsize mutation\n",
    "        \n",
    "        #Initialization\n",
    "        xp = self.initialize_population() #parent population\n",
    "        f = np.zeros((self.mu,1)) #parents fitness\n",
    "        xo = np.zeros((self.lamda,self.d)) #offspring population\n",
    "        fo = np.zeros((self.lamda,1)) #offspring fitness\n",
    "        x_opt = None\n",
    "        f_opt = np.inf\n",
    "        \n",
    "        for i in range (0,self.mu):\n",
    "            f[i] = func(xp[i])\n",
    "            evalcount = evalcount +1\n",
    "        \n",
    "        # Evaluation loop\n",
    "        while evalcount < eval_budget and func.final_target_hit == False :\n",
    "            \n",
    "            #update sigma\n",
    "            sigma = self.update_sigma(sigma, tau)\n",
    "            \n",
    "            #create new offspring generation\n",
    "            for i in range(0,self.lamda):\n",
    "                offspring = self.recombine(xp)\n",
    "                xo[i] = self.singlestep_mutate(offspring, sigma)\n",
    "                fo[i] = func(xo[i])\n",
    "                evalcount = evalcount +1\n",
    "                if evalcount == eval_budget:\n",
    "                    break\n",
    "                \n",
    "            # Selection\n",
    "            m = np.concatenate((xo, fo), axis=1) # Create joint matrix of individuals and their fitness values\n",
    "            sorted_m = m[np.argsort(m[:, self.d])] # sort based on fitness (lowest values highest ranking)\n",
    "            \n",
    "            xpnew = sorted_m[0:self.mu,0:self.d] # copy best individuals and remove fitness values\n",
    "            xp = xpnew # set new population for next generation\n",
    "            f = sorted_m[0:self.mu,self.d] # copy fitness values of new generation\n",
    "\n",
    "            #check if new best individual is better than previous best and copy x and f if true\n",
    "            if f[0] < f_opt:\n",
    "                x_opt = xp[0]\n",
    "                f_opt = f[0]\n",
    "\n",
    "        return x_opt, f_opt"
   ]
  },
  {
   "cell_type": "code",
   "execution_count": 14,
   "metadata": {},
   "outputs": [],
   "source": [
    "list = []\n",
    "for i in range (1,25):\n",
    "    list.append(i)"
   ]
  },
  {
   "cell_type": "code",
   "execution_count": 15,
   "metadata": {},
   "outputs": [],
   "source": [
    "pc = [0.65, 0.70, 0.75, 0.80, 0.85, 0.90]"
   ]
  },
  {
   "cell_type": "code",
   "execution_count": 17,
   "metadata": {},
   "outputs": [
    {
     "name": "stdout",
     "output_type": "stream",
     "text": [
      "Running single-threaded\n",
      "1 20000 7.411651319616183e-06\n",
      "1 8615 3.0185594675324146e-09\n",
      "1 4715 2.5401128830464175e-09\n",
      "1 18315 7.7226382358605e-09\n",
      "1 20000 2.415523722336865e-08\n",
      "2 20000 0.3386199785313125\n",
      "2 20000 0.2572277902197111\n",
      "2 20000 2.3080872549055456\n",
      "2 20000 2.8735163145357148\n",
      "2 20000 0.6747752820713396\n",
      "3 20000 7.65053735357211e-06\n",
      "3 20000 0.0003109232671176141\n",
      "3 6115 7.413826788157287e-09\n",
      "3 20000 0.052285741323857174\n",
      "3 20000 1.7419548575853792e-08\n",
      "4 10115 2.423366305360481e-09\n",
      "4 10215 4.4186131929814044e-09\n",
      "4 20000 1.138674408617542\n",
      "4 13315 9.899035599471253e-09\n",
      "4 20000 8.683546297737083e-05\n",
      "5 115 0.0\n",
      "5 215 0.0\n",
      "5 115 0.0\n",
      "5 115 0.0\n",
      "5 115 0.0\n",
      "6 3515 3.496708731166357e-09\n",
      "6 20000 0.08524760754407629\n",
      "6 3615 4.6281180589189944e-09\n",
      "6 20000 8.327528389576923e-07\n",
      "6 5315 4.934383970056684e-09\n",
      "7 20000 93.54091559010935\n",
      "7 20000 92.9460091559011\n",
      "7 20000 92.96068633887359\n",
      "7 20000 92.94\n",
      "7 20000 92.94000000426064\n",
      "8 20000 7.633891820635667e-06\n",
      "8 20000 6.562872762612105e-05\n",
      "8 20000 2.9984127749687715e-08\n",
      "8 20000 0.05362995037528539\n",
      "8 20000 3.7722027267491156e-08\n",
      "9 20000 0.29381669446035336\n",
      "9 17615 7.736113456595248e-09\n",
      "9 20000 2.659058171496443e-06\n",
      "9 20000 4.148863151457935e-06\n",
      "9 20000 5.232919846684142e-07\n",
      "10 20000 0.20531365787188674\n",
      "10 20000 1.6928963605844969\n",
      "10 20000 1.2988846610439078\n",
      "10 20000 0.04227407628725119\n",
      "10 20000 0.23120693398159511\n",
      "11 20000 5.289119818217285\n",
      "11 20000 8.78403701710583\n",
      "11 20000 29.297489759094102\n",
      "11 20000 4.324553830758767\n",
      "11 20000 3.6476674521517887\n",
      "12 20000 0.061614629393349565\n",
      "12 20000 2.0551725497395457\n",
      "12 20000 0.3180176863032446\n",
      "12 20000 0.2550006551148663\n",
      "12 20000 0.008529321978863979\n",
      "13 20000 0.00018115832615546746\n",
      "13 20000 8.812379842120911e-06\n",
      "13 20000 3.1131273982625953\n",
      "13 20000 1.762400523357203\n",
      "13 20000 0.004647134117531481\n",
      "14 20000 8.637232653371502e-05\n",
      "14 20000 1.65785401806949e-05\n",
      "14 20000 9.440669437226003e-05\n",
      "14 20000 0.007763813578535964\n",
      "14 20000 0.015960505656768688\n",
      "15 20000 3.628434913459359e-05\n",
      "15 20000 0.6985240768451303\n",
      "15 20000 0.2696213600252468\n",
      "15 20000 0.9281183416426548\n",
      "15 20000 1.458875523448495\n",
      "16 20000 4.469955337678532\n",
      "16 20000 9.174280977231541e-08\n",
      "16 20000 0.0002607962500118256\n",
      "16 20000 0.11615942580936134\n",
      "16 20000 2.4964209926606923e-06\n",
      "17 20000 0.07544163090598063\n",
      "17 20000 1.3907596321533213\n",
      "17 20000 3.3371592714846634e-05\n",
      "17 20000 2.244300827518237e-05\n",
      "17 20000 1.4953561828851442e-07\n",
      "18 20000 1.796856232893562\n",
      "18 20000 0.4953546607660874\n",
      "18 20000 4.009748771179579\n",
      "18 20000 2.463852981841849\n",
      "18 20000 1.7162519472894466\n",
      "19 20000 8.891152874213049e-05\n",
      "19 20000 1.3516171222249795e-06\n",
      "19 20000 4.467931624674293e-08\n",
      "19 20000 4.3367382573933355e-08\n",
      "19 20000 0.00011798682745478573\n",
      "20 12115 1.009226480164216e-09\n",
      "20 20000 8.13890940150941e-05\n",
      "20 20000 1.2856774333158683e-07\n",
      "20 20000 0.007902254821318592\n",
      "20 20000 0.03227293627185361\n",
      "21 2115 5.96832163407427e-11\n",
      "21 20000 0.003829203113843567\n",
      "21 20000 0.0012225956032495381\n",
      "21 5915 1.892806698527906e-09\n",
      "21 1415 6.90420985495973e-09\n",
      "22 20000 9.037883608277792e-05\n",
      "22 1615 3.420650881781743e-10\n",
      "22 8115 4.5924491911472784e-10\n",
      "22 20000 0.13655049743768785\n",
      "22 20000 1.1364843970693321e-07\n",
      "23 20000 0.12187875030833684\n",
      "23 20000 0.007651587067277754\n",
      "23 20000 0.011695858446043594\n",
      "23 20000 1.0573341699935557\n",
      "23 20000 1.3045007130063624e-07\n",
      "24 20000 2.0713866005397867\n",
      "24 20000 1.8386501489429483\n",
      "24 20000 0.4738327785155662\n",
      "24 20000 2.1065869568340228\n",
      "24 20000 2.2075232934351043\n"
     ]
    },
    {
     "data": {
      "text/plain": [
       "[None,\n",
       " None,\n",
       " None,\n",
       " None,\n",
       " None,\n",
       " None,\n",
       " None,\n",
       " None,\n",
       " None,\n",
       " None,\n",
       " None,\n",
       " None,\n",
       " None,\n",
       " None,\n",
       " None,\n",
       " None,\n",
       " None,\n",
       " None,\n",
       " None,\n",
       " None,\n",
       " None,\n",
       " None,\n",
       " None,\n",
       " None]"
      ]
     },
     "execution_count": 17,
     "metadata": {},
     "output_type": "execute_result"
    }
   ],
   "source": [
    "#for elem in pc:\n",
    "from IOHexperimenter import IOHexperimenter\n",
    "exp = IOHexperimenter()\n",
    "exp.initialize_BBOB(list,[1],[2], 5)\n",
    "exp.set_logger_location(\"experiments/experiment3108-1038\") #+ \"pc\" + str(elem)[-2:] , \"run\")\n",
    "exp([Simple_EA_15_100_multiple_runs(10000,0.70)])"
   ]
  },
  {
   "cell_type": "code",
   "execution_count": 35,
   "metadata": {},
   "outputs": [],
   "source": [
    "from IOHexperimenter import IOHexperimenter\n",
    "exp = IOHexperimenter()\n",
    "exp.initialize_BBOB(list,[1],[2,5,10], 1)\n",
    "exp.set_logger_location(\"experiment2808-0922\", \"run\")"
   ]
  },
  {
   "cell_type": "code",
   "execution_count": 56,
   "metadata": {},
   "outputs": [],
   "source": [
    "ind = np.array([3,0.5, 0.003, -2.2])\n",
    "mutant = np.zeros(len(ind))\n",
    "for j in range (0, len(ind)):\n",
    "     result = ind[j] + 0.5 * np.random.normal(0,1)\n",
    "     # check boundaries first\n",
    "     if result < -5:\n",
    "        mutant[j] = -5\n",
    "     elif result > 5:\n",
    "        mutant[j] = 5\n",
    "     # if result is within boundaries, change j-th mutant characteristic to result\n",
    "     else:\n",
    "        mutant[j] = result"
   ]
  },
  {
   "cell_type": "code",
   "execution_count": 57,
   "metadata": {},
   "outputs": [
    {
     "data": {
      "text/plain": [
       "array([ 2.71276907,  0.17461278, -0.31786894, -2.77917296])"
      ]
     },
     "execution_count": 57,
     "metadata": {},
     "output_type": "execute_result"
    }
   ],
   "source": [
    "mutant"
   ]
  },
  {
   "cell_type": "code",
   "execution_count": 3,
   "metadata": {},
   "outputs": [],
   "source": [
    "algorithm = Simple_EA(5000)"
   ]
  },
  {
   "cell_type": "code",
   "execution_count": 7,
   "metadata": {},
   "outputs": [],
   "source": [
    "f10 = IOH_function(10,5,1, suite = 'BBOB')\n",
    "f21 = IOH_function(21,10,1, suite = 'BBOB')"
   ]
  },
  {
   "cell_type": "code",
   "execution_count": 5,
   "metadata": {},
   "outputs": [
    {
     "data": {
      "text/plain": [
       "(array([-3.60968161, -2.58373449, -4.74331929,  4.98983707, -2.86697315]),\n",
       " 1442.9254060133305)"
      ]
     },
     "execution_count": 5,
     "metadata": {},
     "output_type": "execute_result"
    }
   ],
   "source": [
    "algorithm(f10)"
   ]
  },
  {
   "cell_type": "code",
   "execution_count": 6,
   "metadata": {},
   "outputs": [],
   "source": [
    "f10.clear_logger()"
   ]
  },
  {
   "cell_type": "code",
   "execution_count": 8,
   "metadata": {},
   "outputs": [
    {
     "data": {
      "text/plain": [
       "(array([ 3.83575784,  0.87308653, -4.61357279,  0.67361998, -0.97069719,\n",
       "         0.01989487, -4.13696428, -4.67276495,  2.44807701,  2.66020966]),\n",
       " 44.4587691052737)"
      ]
     },
     "execution_count": 8,
     "metadata": {},
     "output_type": "execute_result"
    }
   ],
   "source": [
    "algorithm(f21)"
   ]
  },
  {
   "cell_type": "code",
   "execution_count": null,
   "metadata": {},
   "outputs": [],
   "source": [
    "def update_sigma_vec(self, sigma_vec):\n",
    "    updated_sigma = np.zeros(self.d)\n",
    "    for i in range (0,len(sigma_vec)):\n",
    "        updated_sigma[i] = sigma_vec[i] * math.exp(self.global_tau * np.random.normal(0,1) + self.local_tau * np.random.normal(0,1))\n",
    "    \n",
    "    return updated_sigma\n",
    "\n",
    "def indstep_mutate(self, ind, sigma_vec):\n",
    "    result = 0\n",
    "    mutant = np.zeros(len(ind))\n",
    "    for j in range (0,len(ind)):\n",
    "        result = ind[j] + sigma_vec[j] * np.random.normal(0,1)\n",
    "        if result < -5:\n",
    "            mutant[j] = -5\n",
    "        elif result > 5:\n",
    "            mutant[j] = 5\n",
    "             # if result is within boundaries, change j-th mutant characteristic to result\n",
    "        else:\n",
    "            mutant[j] = result\n",
    " \n",
    "    return mutant\n",
    "\"\"\"\n",
    "\n",
    "vector<double> indstep_mutate (vector<double> vec, vector<double>sigma) {\n",
    "\tvector<double> offspring(vec.size());\n",
    "\tfor (int i = 0; i<vec.size(); i++){\n",
    "\t\tdefault_random_engine generator;\n",
    "\t\tnormal_distribution<double> distribution(0,1);\n",
    "\t\tdouble result = vec[i] + sigma[i]* distribution(generator);\n",
    "\t\tif (result < -5) {offspring[i] = -5;}\n",
    "\t\telse if (result > 5) {offspring[i] = 5;}\n",
    "\t\telse {offspring[i] = result;}\n",
    "\t}\n",
    "\treturn offspring;\n",
    "}\n",
    "\n",
    "\n",
    "\"\"\""
   ]
  },
  {
   "cell_type": "code",
   "execution_count": 61,
   "metadata": {},
   "outputs": [],
   "source": [
    "string = \"0.74\""
   ]
  },
  {
   "cell_type": "code",
   "execution_count": 70,
   "metadata": {},
   "outputs": [
    {
     "data": {
      "text/plain": [
       "'74'"
      ]
     },
     "execution_count": 70,
     "metadata": {},
     "output_type": "execute_result"
    }
   ],
   "source": [
    "string[-2:]"
   ]
  },
  {
   "cell_type": "code",
   "execution_count": 74,
   "metadata": {},
   "outputs": [
    {
     "data": {
      "text/plain": [
       "\u001b[0;31mSignature:\u001b[0m      \u001b[0mexp\u001b[0m\u001b[0;34m(\u001b[0m\u001b[0malgorithms\u001b[0m\u001b[0;34m)\u001b[0m\u001b[0;34m\u001b[0m\u001b[0;34m\u001b[0m\u001b[0m\n",
       "\u001b[0;31mType:\u001b[0m           IOHexperimenter\n",
       "\u001b[0;31mString form:\u001b[0m    <IOHexperimenter.src.IOH_benchmarking.IOHexperimenter object at 0x114838310>\n",
       "\u001b[0;31mFile:\u001b[0m           /usr/local/Cellar/python@3.8/3.8.5/Frameworks/Python.framework/Versions/3.8/lib/python3.8/site-packages/IOHexperimenter/src/IOH_benchmarking.py\n",
       "\u001b[0;31mDocstring:\u001b[0m     \n",
       "An interfact to easily run a set of algorithms on multiple functions from the IOHexperimenter.\n",
       "    \n",
       "\u001b[0;31mInit docstring:\u001b[0m\n",
       "Create an IOHexperimenter object for benchmarking a set of algorithms on multiple functions\n",
       "\n",
       "Initialize the functions to use by calling 'initialize_PBO', 'initialize_BBOB' or 'initialize_custom'\n",
       "Set up parallellization by calling 'set_parallell'\n",
       "\u001b[0;31mCall docstring:\u001b[0m\n",
       "Run the experiment with the given set of algorithms\n",
       "\n",
       "Parameters\n",
       "----------\n",
       "algorithms:\n",
       "    A list containing algorithm functions. \n",
       "    These will get as input only one argument, of type IOH_function.\n"
      ]
     },
     "metadata": {},
     "output_type": "display_data"
    }
   ],
   "source": [
    "?exp"
   ]
  },
  {
   "cell_type": "code",
   "execution_count": 75,
   "metadata": {},
   "outputs": [],
   "source": [
    "algorithm1 = Simple_EA_15_100(10000,pc[0])"
   ]
  },
  {
   "cell_type": "code",
   "execution_count": 76,
   "metadata": {},
   "outputs": [],
   "source": [
    "algorithm2 = Simple_EA_15_100(10000,pc[1])"
   ]
  },
  {
   "cell_type": "code",
   "execution_count": 78,
   "metadata": {},
   "outputs": [
    {
     "name": "stdout",
     "output_type": "stream",
     "text": [
      "Object `algId` not found.\n"
     ]
    }
   ],
   "source": [
    "?algId"
   ]
  },
  {
   "cell_type": "code",
   "execution_count": null,
   "metadata": {},
   "outputs": [],
   "source": []
  },
  {
   "cell_type": "code",
   "execution_count": 80,
   "metadata": {},
   "outputs": [
    {
     "data": {
      "text/plain": [
       "\u001b[0;31mInit signature:\u001b[0m \u001b[0mIOH_logger\u001b[0m\u001b[0;34m(\u001b[0m\u001b[0mlocation\u001b[0m\u001b[0;34m,\u001b[0m \u001b[0mfoldername\u001b[0m\u001b[0;34m=\u001b[0m\u001b[0;34m'run'\u001b[0m\u001b[0;34m,\u001b[0m \u001b[0mname\u001b[0m\u001b[0;34m=\u001b[0m\u001b[0;34m''\u001b[0m\u001b[0;34m,\u001b[0m \u001b[0minfo\u001b[0m\u001b[0;34m=\u001b[0m\u001b[0;34m''\u001b[0m\u001b[0;34m)\u001b[0m\u001b[0;34m\u001b[0m\u001b[0;34m\u001b[0m\u001b[0m\n",
       "\u001b[0;31mDocstring:\u001b[0m      <no docstring>\n",
       "\u001b[0;31mInit docstring:\u001b[0m\n",
       "Creates a logger to be used within an IOH_problem object\n",
       "\n",
       "Parameters\n",
       "----------\n",
       "location:\n",
       "    The directory in which to store the results\n",
       "foldername:\n",
       "    The name of the folder to create to store the results\n",
       "name:\n",
       "    The name of the algorithm intened to run on this function\n",
       "info:\n",
       "    Additional information on the algorithm\n",
       "\n",
       "Returns\n",
       "------\n",
       "A logger from the IOHexperimenter package\n",
       "\u001b[0;31mFile:\u001b[0m           /usr/local/Cellar/python@3.8/3.8.5/Frameworks/Python.framework/Versions/3.8/lib/python3.8/site-packages/IOHexperimenter/src/IOH_logger.py\n",
       "\u001b[0;31mType:\u001b[0m           type\n",
       "\u001b[0;31mSubclasses:\u001b[0m     \n"
      ]
     },
     "metadata": {},
     "output_type": "display_data"
    }
   ],
   "source": [
    "from IOHexperimenter import IOH_logger\n",
    "?IOH_logger"
   ]
  },
  {
   "cell_type": "code",
   "execution_count": 81,
   "metadata": {},
   "outputs": [
    {
     "data": {
      "text/plain": [
       "\u001b[0;31mSignature:\u001b[0m      \u001b[0mexp\u001b[0m\u001b[0;34m(\u001b[0m\u001b[0malgorithms\u001b[0m\u001b[0;34m)\u001b[0m\u001b[0;34m\u001b[0m\u001b[0;34m\u001b[0m\u001b[0m\n",
       "\u001b[0;31mType:\u001b[0m           IOHexperimenter\n",
       "\u001b[0;31mString form:\u001b[0m    <IOHexperimenter.src.IOH_benchmarking.IOHexperimenter object at 0x114838310>\n",
       "\u001b[0;31mFile:\u001b[0m           /usr/local/Cellar/python@3.8/3.8.5/Frameworks/Python.framework/Versions/3.8/lib/python3.8/site-packages/IOHexperimenter/src/IOH_benchmarking.py\n",
       "\u001b[0;31mDocstring:\u001b[0m     \n",
       "An interfact to easily run a set of algorithms on multiple functions from the IOHexperimenter.\n",
       "    \n",
       "\u001b[0;31mInit docstring:\u001b[0m\n",
       "Create an IOHexperimenter object for benchmarking a set of algorithms on multiple functions\n",
       "\n",
       "Initialize the functions to use by calling 'initialize_PBO', 'initialize_BBOB' or 'initialize_custom'\n",
       "Set up parallellization by calling 'set_parallell'\n",
       "\u001b[0;31mCall docstring:\u001b[0m\n",
       "Run the experiment with the given set of algorithms\n",
       "\n",
       "Parameters\n",
       "----------\n",
       "algorithms:\n",
       "    A list containing algorithm functions. \n",
       "    These will get as input only one argument, of type IOH_function.\n"
      ]
     },
     "metadata": {},
     "output_type": "display_data"
    }
   ],
   "source": [
    "?exp"
   ]
  },
  {
   "cell_type": "code",
   "execution_count": 82,
   "metadata": {},
   "outputs": [
    {
     "name": "stdout",
     "output_type": "stream",
     "text": [
      "Object `exp.algorithms` not found.\n"
     ]
    }
   ],
   "source": [
    "?exp.algorithms"
   ]
  },
  {
   "cell_type": "code",
   "execution_count": 83,
   "metadata": {},
   "outputs": [
    {
     "name": "stdout",
     "output_type": "stream",
     "text": [
      "Object `exp.docstring` not found.\n"
     ]
    }
   ],
   "source": [
    "?exp.docstring"
   ]
  },
  {
   "cell_type": "code",
   "execution_count": 84,
   "metadata": {},
   "outputs": [
    {
     "name": "stdout",
     "output_type": "stream",
     "text": [
      "Object `exp.type` not found.\n"
     ]
    }
   ],
   "source": [
    "?exp.type"
   ]
  },
  {
   "cell_type": "code",
   "execution_count": 87,
   "metadata": {},
   "outputs": [
    {
     "ename": "AttributeError",
     "evalue": "'IOHexperimenter' object has no attribute 'Type'",
     "output_type": "error",
     "traceback": [
      "\u001b[0;31m---------------------------------------------------------------------------\u001b[0m",
      "\u001b[0;31mAttributeError\u001b[0m                            Traceback (most recent call last)",
      "\u001b[0;32m<ipython-input-87-bc4f352831a1>\u001b[0m in \u001b[0;36m<module>\u001b[0;34m\u001b[0m\n\u001b[0;32m----> 1\u001b[0;31m \u001b[0mexp\u001b[0m\u001b[0;34m.\u001b[0m\u001b[0mType\u001b[0m\u001b[0;34m\u001b[0m\u001b[0;34m\u001b[0m\u001b[0m\n\u001b[0m",
      "\u001b[0;31mAttributeError\u001b[0m: 'IOHexperimenter' object has no attribute 'Type'"
     ]
    }
   ],
   "source": []
  },
  {
   "cell_type": "code",
   "execution_count": null,
   "metadata": {},
   "outputs": [],
   "source": []
  }
 ],
 "metadata": {
  "kernelspec": {
   "display_name": "Python 3",
   "language": "python",
   "name": "python3"
  },
  "language_info": {
   "codemirror_mode": {
    "name": "ipython",
    "version": 3
   },
   "file_extension": ".py",
   "mimetype": "text/x-python",
   "name": "python",
   "nbconvert_exporter": "python",
   "pygments_lexer": "ipython3",
   "version": "3.8.5"
  }
 },
 "nbformat": 4,
 "nbformat_minor": 4
}
